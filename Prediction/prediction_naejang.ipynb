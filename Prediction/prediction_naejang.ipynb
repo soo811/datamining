{
 "cells": [
  {
   "cell_type": "code",
   "execution_count": 1,
   "id": "6863bcc6",
   "metadata": {},
   "outputs": [],
   "source": [
    "import numpy as np\n",
    "import pandas as pd\n",
    "import matplotlib.pyplot as plt"
   ]
  },
  {
   "cell_type": "code",
   "execution_count": 2,
   "id": "90f74002",
   "metadata": {},
   "outputs": [],
   "source": [
    "data = pd.read_csv('./data/naejang.csv')\n",
    "data2 = pd.read_csv('./data/autumn_day.csv')\n",
    "data3 = pd.read_csv('./data/2023_mt.csv')"
   ]
  },
  {
   "cell_type": "code",
   "execution_count": 3,
   "id": "af9b6eac",
   "metadata": {},
   "outputs": [],
   "source": [
    "test_x = data3.iloc[4, :6]\n",
    "test_x = np.array(test_x).reshape(1,6)\n",
    "test_y = data3.iloc[4, -1]\n",
    "train_x = data.iloc[:, 1:]\n",
    "train_y = data2.iloc[:, 5]"
   ]
  },
  {
   "cell_type": "code",
   "execution_count": 4,
   "id": "1d8e72ba",
   "metadata": {},
   "outputs": [
    {
     "name": "stdout",
     "output_type": "stream",
     "text": [
      "[301.92931817]\n",
      "[-1.08970082  3.52001532  0.00485556 -0.011028    0.01379966 -0.01531925]\n",
      "249.85324102433384\n"
     ]
    },
    {
     "name": "stderr",
     "output_type": "stream",
     "text": [
      "C:\\Users\\0811j\\anaconda3\\Lib\\site-packages\\sklearn\\base.py:464: UserWarning: X does not have valid feature names, but LinearRegression was fitted with feature names\n",
      "  warnings.warn(\n"
     ]
    }
   ],
   "source": [
    "# 선형회귀\n",
    "from sklearn.linear_model import LinearRegression\n",
    "model = LinearRegression()\n",
    "model.fit(train_x, train_y)\n",
    "pred = model.predict(test_x)\n",
    "print(pred)\n",
    "print(model.coef_)\n",
    "print(model.intercept_)"
   ]
  },
  {
   "cell_type": "code",
   "execution_count": 5,
   "id": "3bd163e2",
   "metadata": {},
   "outputs": [
    {
     "name": "stdout",
     "output_type": "stream",
     "text": [
      "300\n"
     ]
    }
   ],
   "source": [
    "print(test_y)"
   ]
  },
  {
   "cell_type": "code",
   "execution_count": 6,
   "id": "fc664ca0-b673-429c-864f-01089ead1c20",
   "metadata": {},
   "outputs": [
    {
     "data": {
      "text/plain": [
       "['./naejang.pkl']"
      ]
     },
     "execution_count": 6,
     "metadata": {},
     "output_type": "execute_result"
    }
   ],
   "source": [
    "import joblib\n",
    "joblib.dump(model, './naejang.pkl')"
   ]
  },
  {
   "cell_type": "code",
   "execution_count": null,
   "id": "77db943c",
   "metadata": {},
   "outputs": [],
   "source": []
  }
 ],
 "metadata": {
  "kernelspec": {
   "display_name": "Python 3 (ipykernel)",
   "language": "python",
   "name": "python3"
  },
  "language_info": {
   "codemirror_mode": {
    "name": "ipython",
    "version": 3
   },
   "file_extension": ".py",
   "mimetype": "text/x-python",
   "name": "python",
   "nbconvert_exporter": "python",
   "pygments_lexer": "ipython3",
   "version": "3.11.5"
  }
 },
 "nbformat": 4,
 "nbformat_minor": 5
}
