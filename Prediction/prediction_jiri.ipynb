{
 "cells": [
  {
   "cell_type": "code",
   "execution_count": 1,
   "id": "7464ba8f",
   "metadata": {},
   "outputs": [],
   "source": [
    "import numpy as np\n",
    "import pandas as pd\n",
    "import matplotlib.pyplot as plt"
   ]
  },
  {
   "cell_type": "code",
   "execution_count": 2,
   "id": "3a55b46f",
   "metadata": {},
   "outputs": [],
   "source": [
    "data = pd.read_csv('./data/jiri.csv')\n",
    "data2 = pd.read_csv('./data/autumn_day.csv')\n",
    "data3 = pd.read_csv('./data/2023_mt.csv')"
   ]
  },
  {
   "cell_type": "code",
   "execution_count": 3,
   "id": "1aa9c1c9",
   "metadata": {},
   "outputs": [],
   "source": [
    "test_x = data3.iloc[3, :6]\n",
    "test_x = np.array(test_x).reshape(1,6)\n",
    "test_y = data3.iloc[3, -1]\n",
    "train_x = data.iloc[:, 1:]\n",
    "train_y = data2.iloc[:, 4]"
   ]
  },
  {
   "cell_type": "code",
   "execution_count": 4,
   "id": "cd45b194",
   "metadata": {},
   "outputs": [
    {
     "name": "stdout",
     "output_type": "stream",
     "text": [
      "[286.6293669]\n",
      "[ 3.99103698e-01  2.00028669e+00 -8.90842773e-03 -8.70171114e-04\n",
      " -4.95786635e-02 -8.82972262e-02]\n",
      "301.19088045336605\n"
     ]
    },
    {
     "name": "stderr",
     "output_type": "stream",
     "text": [
      "C:\\Users\\0811j\\anaconda3\\Lib\\site-packages\\sklearn\\base.py:464: UserWarning: X does not have valid feature names, but LinearRegression was fitted with feature names\n",
      "  warnings.warn(\n"
     ]
    }
   ],
   "source": [
    "# 선형회귀\n",
    "from sklearn.linear_model import LinearRegression\n",
    "model = LinearRegression()\n",
    "model.fit(train_x, train_y)\n",
    "pred = model.predict(test_x)\n",
    "print(pred)\n",
    "print(model.coef_)\n",
    "print(model.intercept_)"
   ]
  },
  {
   "cell_type": "code",
   "execution_count": 5,
   "id": "5955780c",
   "metadata": {
    "scrolled": true
   },
   "outputs": [
    {
     "name": "stdout",
     "output_type": "stream",
     "text": [
      "293\n"
     ]
    }
   ],
   "source": [
    "print(test_y)"
   ]
  },
  {
   "cell_type": "code",
   "execution_count": 6,
   "id": "e67c3f90-d57d-4560-88c8-a541a4e214d5",
   "metadata": {},
   "outputs": [
    {
     "data": {
      "text/plain": [
       "['./jiri.pkl']"
      ]
     },
     "execution_count": 6,
     "metadata": {},
     "output_type": "execute_result"
    }
   ],
   "source": [
    "import joblib\n",
    "joblib.dump(model, './jiri.pkl')"
   ]
  },
  {
   "cell_type": "code",
   "execution_count": null,
   "id": "592545a1",
   "metadata": {},
   "outputs": [],
   "source": []
  }
 ],
 "metadata": {
  "kernelspec": {
   "display_name": "Python 3 (ipykernel)",
   "language": "python",
   "name": "python3"
  },
  "language_info": {
   "codemirror_mode": {
    "name": "ipython",
    "version": 3
   },
   "file_extension": ".py",
   "mimetype": "text/x-python",
   "name": "python",
   "nbconvert_exporter": "python",
   "pygments_lexer": "ipython3",
   "version": "3.11.5"
  }
 },
 "nbformat": 4,
 "nbformat_minor": 5
}
