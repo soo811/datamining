{
 "cells": [
  {
   "cell_type": "code",
   "execution_count": 1,
   "id": "2a448eb7",
   "metadata": {},
   "outputs": [],
   "source": [
    "import numpy as np\n",
    "import pandas as pd\n",
    "import matplotlib.pyplot as plt"
   ]
  },
  {
   "cell_type": "code",
   "execution_count": 2,
   "id": "7cb05255",
   "metadata": {},
   "outputs": [],
   "source": [
    "data = pd.read_csv('./data/gyeryong.csv')\n",
    "data2 = pd.read_csv('./data/autumn_day.csv')\n",
    "data3 = pd.read_csv('./data/2023_mt.csv')"
   ]
  },
  {
   "cell_type": "code",
   "execution_count": 3,
   "id": "f8acf9dd",
   "metadata": {
    "scrolled": true
   },
   "outputs": [
    {
     "data": {
      "text/html": [
       "<div>\n",
       "<style scoped>\n",
       "    .dataframe tbody tr th:only-of-type {\n",
       "        vertical-align: middle;\n",
       "    }\n",
       "\n",
       "    .dataframe tbody tr th {\n",
       "        vertical-align: top;\n",
       "    }\n",
       "\n",
       "    .dataframe thead th {\n",
       "        text-align: right;\n",
       "    }\n",
       "</style>\n",
       "<table border=\"1\" class=\"dataframe\">\n",
       "  <thead>\n",
       "    <tr style=\"text-align: right;\">\n",
       "      <th></th>\n",
       "      <th>Unnamed: 0</th>\n",
       "      <th>Bukhan</th>\n",
       "      <th>Chiak</th>\n",
       "      <th>Gyeryong</th>\n",
       "      <th>Jiri</th>\n",
       "      <th>Naejang</th>\n",
       "    </tr>\n",
       "  </thead>\n",
       "  <tbody>\n",
       "    <tr>\n",
       "      <th>0</th>\n",
       "      <td>2010</td>\n",
       "      <td>291</td>\n",
       "      <td>282</td>\n",
       "      <td>291</td>\n",
       "      <td>283</td>\n",
       "      <td>298</td>\n",
       "    </tr>\n",
       "    <tr>\n",
       "      <th>1</th>\n",
       "      <td>2011</td>\n",
       "      <td>287</td>\n",
       "      <td>280</td>\n",
       "      <td>290</td>\n",
       "      <td>285</td>\n",
       "      <td>298</td>\n",
       "    </tr>\n",
       "    <tr>\n",
       "      <th>2</th>\n",
       "      <td>2012</td>\n",
       "      <td>289</td>\n",
       "      <td>282</td>\n",
       "      <td>290</td>\n",
       "      <td>283</td>\n",
       "      <td>292</td>\n",
       "    </tr>\n",
       "    <tr>\n",
       "      <th>3</th>\n",
       "      <td>2013</td>\n",
       "      <td>292</td>\n",
       "      <td>287</td>\n",
       "      <td>289</td>\n",
       "      <td>280</td>\n",
       "      <td>295</td>\n",
       "    </tr>\n",
       "    <tr>\n",
       "      <th>4</th>\n",
       "      <td>2014</td>\n",
       "      <td>286</td>\n",
       "      <td>275</td>\n",
       "      <td>286</td>\n",
       "      <td>281</td>\n",
       "      <td>295</td>\n",
       "    </tr>\n",
       "    <tr>\n",
       "      <th>5</th>\n",
       "      <td>2015</td>\n",
       "      <td>287</td>\n",
       "      <td>279</td>\n",
       "      <td>286</td>\n",
       "      <td>281</td>\n",
       "      <td>292</td>\n",
       "    </tr>\n",
       "    <tr>\n",
       "      <th>6</th>\n",
       "      <td>2016</td>\n",
       "      <td>291</td>\n",
       "      <td>278</td>\n",
       "      <td>288</td>\n",
       "      <td>285</td>\n",
       "      <td>296</td>\n",
       "    </tr>\n",
       "    <tr>\n",
       "      <th>7</th>\n",
       "      <td>2017</td>\n",
       "      <td>287</td>\n",
       "      <td>278</td>\n",
       "      <td>286</td>\n",
       "      <td>284</td>\n",
       "      <td>293</td>\n",
       "    </tr>\n",
       "    <tr>\n",
       "      <th>8</th>\n",
       "      <td>2018</td>\n",
       "      <td>285</td>\n",
       "      <td>281</td>\n",
       "      <td>284</td>\n",
       "      <td>285</td>\n",
       "      <td>294</td>\n",
       "    </tr>\n",
       "    <tr>\n",
       "      <th>9</th>\n",
       "      <td>2019</td>\n",
       "      <td>284</td>\n",
       "      <td>280</td>\n",
       "      <td>290</td>\n",
       "      <td>297</td>\n",
       "      <td>297</td>\n",
       "    </tr>\n",
       "    <tr>\n",
       "      <th>10</th>\n",
       "      <td>2020</td>\n",
       "      <td>290</td>\n",
       "      <td>282</td>\n",
       "      <td>289</td>\n",
       "      <td>289</td>\n",
       "      <td>293</td>\n",
       "    </tr>\n",
       "    <tr>\n",
       "      <th>11</th>\n",
       "      <td>2021</td>\n",
       "      <td>293</td>\n",
       "      <td>281</td>\n",
       "      <td>298</td>\n",
       "      <td>299</td>\n",
       "      <td>302</td>\n",
       "    </tr>\n",
       "    <tr>\n",
       "      <th>12</th>\n",
       "      <td>2022</td>\n",
       "      <td>291</td>\n",
       "      <td>280</td>\n",
       "      <td>291</td>\n",
       "      <td>291</td>\n",
       "      <td>298</td>\n",
       "    </tr>\n",
       "  </tbody>\n",
       "</table>\n",
       "</div>"
      ],
      "text/plain": [
       "    Unnamed: 0  Bukhan  Chiak  Gyeryong  Jiri  Naejang\n",
       "0         2010     291    282       291   283      298\n",
       "1         2011     287    280       290   285      298\n",
       "2         2012     289    282       290   283      292\n",
       "3         2013     292    287       289   280      295\n",
       "4         2014     286    275       286   281      295\n",
       "5         2015     287    279       286   281      292\n",
       "6         2016     291    278       288   285      296\n",
       "7         2017     287    278       286   284      293\n",
       "8         2018     285    281       284   285      294\n",
       "9         2019     284    280       290   297      297\n",
       "10        2020     290    282       289   289      293\n",
       "11        2021     293    281       298   299      302\n",
       "12        2022     291    280       291   291      298"
      ]
     },
     "execution_count": 3,
     "metadata": {},
     "output_type": "execute_result"
    }
   ],
   "source": [
    "data2"
   ]
  },
  {
   "cell_type": "code",
   "execution_count": 4,
   "id": "888a7384",
   "metadata": {},
   "outputs": [
    {
     "data": {
      "text/html": [
       "<div>\n",
       "<style scoped>\n",
       "    .dataframe tbody tr th:only-of-type {\n",
       "        vertical-align: middle;\n",
       "    }\n",
       "\n",
       "    .dataframe tbody tr th {\n",
       "        vertical-align: top;\n",
       "    }\n",
       "\n",
       "    .dataframe thead th {\n",
       "        text-align: right;\n",
       "    }\n",
       "</style>\n",
       "<table border=\"1\" class=\"dataframe\">\n",
       "  <thead>\n",
       "    <tr style=\"text-align: right;\">\n",
       "      <th></th>\n",
       "      <th>mtemp_8</th>\n",
       "      <th>mtemp_9</th>\n",
       "      <th>rain_8</th>\n",
       "      <th>rain_9</th>\n",
       "      <th>sun_8</th>\n",
       "      <th>sun_9</th>\n",
       "      <th>lati</th>\n",
       "      <th>long</th>\n",
       "      <th>elv</th>\n",
       "      <th>date</th>\n",
       "    </tr>\n",
       "  </thead>\n",
       "  <tbody>\n",
       "    <tr>\n",
       "      <th>0</th>\n",
       "      <td>27.2</td>\n",
       "      <td>23.7</td>\n",
       "      <td>298.1</td>\n",
       "      <td>134.5</td>\n",
       "      <td>469.76</td>\n",
       "      <td>425.79</td>\n",
       "      <td>37.658653</td>\n",
       "      <td>126.977992</td>\n",
       "      <td>835.6</td>\n",
       "      <td>290</td>\n",
       "    </tr>\n",
       "    <tr>\n",
       "      <th>1</th>\n",
       "      <td>26.7</td>\n",
       "      <td>22.7</td>\n",
       "      <td>233.0</td>\n",
       "      <td>158.6</td>\n",
       "      <td>501.57</td>\n",
       "      <td>438.40</td>\n",
       "      <td>37.365125</td>\n",
       "      <td>128.055647</td>\n",
       "      <td>1282.0</td>\n",
       "      <td>283</td>\n",
       "    </tr>\n",
       "    <tr>\n",
       "      <th>2</th>\n",
       "      <td>27.0</td>\n",
       "      <td>22.8</td>\n",
       "      <td>326.9</td>\n",
       "      <td>310.2</td>\n",
       "      <td>542.41</td>\n",
       "      <td>443.12</td>\n",
       "      <td>35.528419</td>\n",
       "      <td>127.008797</td>\n",
       "      <td>402.5</td>\n",
       "      <td>292</td>\n",
       "    </tr>\n",
       "    <tr>\n",
       "      <th>3</th>\n",
       "      <td>26.9</td>\n",
       "      <td>23.0</td>\n",
       "      <td>406.1</td>\n",
       "      <td>117.6</td>\n",
       "      <td>568.06</td>\n",
       "      <td>446.45</td>\n",
       "      <td>35.336911</td>\n",
       "      <td>127.730625</td>\n",
       "      <td>1915.4</td>\n",
       "      <td>293</td>\n",
       "    </tr>\n",
       "    <tr>\n",
       "      <th>4</th>\n",
       "      <td>27.0</td>\n",
       "      <td>22.7</td>\n",
       "      <td>304.5</td>\n",
       "      <td>123.0</td>\n",
       "      <td>599.42</td>\n",
       "      <td>443.90</td>\n",
       "      <td>35.478342</td>\n",
       "      <td>126.889014</td>\n",
       "      <td>763.5</td>\n",
       "      <td>300</td>\n",
       "    </tr>\n",
       "  </tbody>\n",
       "</table>\n",
       "</div>"
      ],
      "text/plain": [
       "   mtemp_8  mtemp_9  rain_8  rain_9   sun_8   sun_9       lati        long  \\\n",
       "0     27.2     23.7   298.1   134.5  469.76  425.79  37.658653  126.977992   \n",
       "1     26.7     22.7   233.0   158.6  501.57  438.40  37.365125  128.055647   \n",
       "2     27.0     22.8   326.9   310.2  542.41  443.12  35.528419  127.008797   \n",
       "3     26.9     23.0   406.1   117.6  568.06  446.45  35.336911  127.730625   \n",
       "4     27.0     22.7   304.5   123.0  599.42  443.90  35.478342  126.889014   \n",
       "\n",
       "      elv  date  \n",
       "0   835.6   290  \n",
       "1  1282.0   283  \n",
       "2   402.5   292  \n",
       "3  1915.4   293  \n",
       "4   763.5   300  "
      ]
     },
     "execution_count": 4,
     "metadata": {},
     "output_type": "execute_result"
    }
   ],
   "source": [
    "data3"
   ]
  },
  {
   "cell_type": "code",
   "execution_count": 5,
   "id": "a5c579be",
   "metadata": {},
   "outputs": [],
   "source": [
    "test_x = data3.iloc[2, :6]\n",
    "test_x = np.array(test_x).reshape(1,6)\n",
    "test_y = data3.iloc[2, -1]\n",
    "train_x = data.iloc[:, 1:]\n",
    "train_y = data2.iloc[:, 3]"
   ]
  },
  {
   "cell_type": "code",
   "execution_count": 6,
   "id": "657def32",
   "metadata": {},
   "outputs": [
    {
     "name": "stdout",
     "output_type": "stream",
     "text": [
      "[287.63979272]\n",
      "[ 6.56825707e-02  3.70087407e-01 -2.39069284e-04 -1.92963126e-02\n",
      " -1.76698733e-02 -6.51542389e-02]\n",
      "321.9477006578433\n"
     ]
    },
    {
     "name": "stderr",
     "output_type": "stream",
     "text": [
      "C:\\Users\\0811j\\anaconda3\\Lib\\site-packages\\sklearn\\base.py:464: UserWarning: X does not have valid feature names, but LinearRegression was fitted with feature names\n",
      "  warnings.warn(\n"
     ]
    }
   ],
   "source": [
    "# 선형회귀\n",
    "from sklearn.linear_model import LinearRegression\n",
    "model = LinearRegression()\n",
    "model.fit(train_x, train_y)\n",
    "pred = model.predict(test_x)\n",
    "print(pred)\n",
    "print(model.coef_)\n",
    "print(model.intercept_)"
   ]
  },
  {
   "cell_type": "code",
   "execution_count": 7,
   "id": "aa0cc867",
   "metadata": {},
   "outputs": [
    {
     "name": "stdout",
     "output_type": "stream",
     "text": [
      "292\n"
     ]
    }
   ],
   "source": [
    "print(test_y)"
   ]
  },
  {
   "cell_type": "code",
   "execution_count": 8,
   "id": "023664db-c07c-4d40-9062-d9b1ac7e3915",
   "metadata": {},
   "outputs": [
    {
     "data": {
      "text/plain": [
       "['./gyeryong.pkl']"
      ]
     },
     "execution_count": 8,
     "metadata": {},
     "output_type": "execute_result"
    }
   ],
   "source": [
    "import joblib\n",
    "joblib.dump(model, './gyeryong.pkl')"
   ]
  }
 ],
 "metadata": {
  "kernelspec": {
   "display_name": "Python 3 (ipykernel)",
   "language": "python",
   "name": "python3"
  },
  "language_info": {
   "codemirror_mode": {
    "name": "ipython",
    "version": 3
   },
   "file_extension": ".py",
   "mimetype": "text/x-python",
   "name": "python",
   "nbconvert_exporter": "python",
   "pygments_lexer": "ipython3",
   "version": "3.11.5"
  }
 },
 "nbformat": 4,
 "nbformat_minor": 5
}
